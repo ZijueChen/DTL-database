{
 "cells": [
  {
   "cell_type": "code",
   "execution_count": 1,
   "id": "f0fc7b4a",
   "metadata": {},
   "outputs": [],
   "source": [
    "# This file stores the filament related SQL database functions and generating QR code"
   ]
  },
  {
   "cell_type": "code",
   "execution_count": 10,
   "id": "e8d7eadf",
   "metadata": {},
   "outputs": [],
   "source": [
    "import qrcode\n",
    "import cv2\n",
    "import urllib\n",
    "import numpy as np"
   ]
  },
  {
   "cell_type": "code",
   "execution_count": 28,
   "id": "4fca1708",
   "metadata": {},
   "outputs": [],
   "source": [
    "# generate and save a QRcode by input filamentID\n",
    "def gen_QRcode(filamentid):\n",
    "    img = qrcode.make(filamentid)\n",
    "    type(img)\n",
    "    img.save('qr'+filamentid+'.png')"
   ]
  },
  {
   "cell_type": "code",
   "execution_count": 32,
   "id": "f36c8a76",
   "metadata": {},
   "outputs": [],
   "source": [
    "gen_QRcode('4')"
   ]
  },
  {
   "cell_type": "code",
   "execution_count": 26,
   "id": "1e659236",
   "metadata": {},
   "outputs": [],
   "source": [
    "# read QR code by img\n",
    "def read_QRcode(img):\n",
    "    try:\n",
    "        detect = cv2.QRCodeDetector()\n",
    "        value, points, straight_qrcode = detect.detectAndDecode(img)\n",
    "        return value\n",
    "    except:\n",
    "        return"
   ]
  },
  {
   "cell_type": "code",
   "execution_count": 27,
   "id": "93dbbfce",
   "metadata": {},
   "outputs": [],
   "source": [
    "# read QR code from a octopi camera\n",
    "# Keep reading until detect QRcode\n",
    "def scan_QRcode_by_printer(printerid):\n",
    "    W = True\n",
    "    while W:\n",
    "        req = urllib.request.urlopen(\"http://octopi\"+str(printerid)+\":8080/?action=snapshot\")\n",
    "        arr = np.asarray(bytearray(req.read()), dtype=np.uint8)\n",
    "        img = cv2.imdecode(arr, -1)\n",
    "        result = read_QRcode(img)\n",
    "        if result != '':\n",
    "            W = False\n",
    "            return result"
   ]
  },
  {
   "cell_type": "code",
   "execution_count": 34,
   "id": "b52d9767",
   "metadata": {},
   "outputs": [
    {
     "data": {
      "text/plain": [
       "'2'"
      ]
     },
     "execution_count": 34,
     "metadata": {},
     "output_type": "execute_result"
    }
   ],
   "source": [
    "scan_QRcode_by_printer(3)"
   ]
  },
  {
   "cell_type": "code",
   "execution_count": null,
   "id": "a0d7bbc0",
   "metadata": {},
   "outputs": [],
   "source": []
  }
 ],
 "metadata": {
  "kernelspec": {
   "display_name": "Python 3 (ipykernel)",
   "language": "python",
   "name": "python3"
  },
  "language_info": {
   "codemirror_mode": {
    "name": "ipython",
    "version": 3
   },
   "file_extension": ".py",
   "mimetype": "text/x-python",
   "name": "python",
   "nbconvert_exporter": "python",
   "pygments_lexer": "ipython3",
   "version": "3.9.12"
  }
 },
 "nbformat": 4,
 "nbformat_minor": 5
}
