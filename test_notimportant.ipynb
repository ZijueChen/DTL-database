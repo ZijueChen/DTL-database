{
 "cells": [
  {
   "cell_type": "code",
   "execution_count": 2,
   "id": "8af0391a",
   "metadata": {},
   "outputs": [],
   "source": [
    "from py_sql_clean import Print"
   ]
  },
  {
   "cell_type": "code",
   "execution_count": 4,
   "id": "14e5fba7",
   "metadata": {},
   "outputs": [],
   "source": [
    "Print.cleanedup_by_printer('3')"
   ]
  }
 ],
 "metadata": {
  "kernelspec": {
   "display_name": "Python 3 (ipykernel)",
   "language": "python",
   "name": "python3"
  },
  "language_info": {
   "codemirror_mode": {
    "name": "ipython",
    "version": 3
   },
   "file_extension": ".py",
   "mimetype": "text/x-python",
   "name": "python",
   "nbconvert_exporter": "python",
   "pygments_lexer": "ipython3",
   "version": "3.9.12"
  }
 },
 "nbformat": 4,
 "nbformat_minor": 5
}
