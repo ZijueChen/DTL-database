{
 "cells": [
  {
   "cell_type": "code",
   "execution_count": 1,
   "id": "f0fc7b4a",
   "metadata": {},
   "outputs": [],
   "source": [
    "# This file stores the filament related SQL database functions and generating QR code"
   ]
  },
  {
   "cell_type": "code",
   "execution_count": 1,
   "id": "15899d22",
   "metadata": {},
   "outputs": [
    {
     "name": "stderr",
     "output_type": "stream",
     "text": [
      "deprecation warning: brother_ql.devicedependent is deprecated and will be removed in a future release\n"
     ]
    }
   ],
   "source": [
    "from PIL import Image\n",
    "from brother_ql.conversion import convert\n",
    "from brother_ql.backends.helpers import send\n",
    "from brother_ql.raster import BrotherQLRaster"
   ]
  },
  {
   "cell_type": "code",
   "execution_count": 2,
   "id": "e8d7eadf",
   "metadata": {},
   "outputs": [],
   "source": [
    "import qrcode\n",
    "import cv2\n",
    "import urllib\n",
    "import numpy as np\n",
    "import psycopg2\n",
    "import datetime"
   ]
  },
  {
   "cell_type": "code",
   "execution_count": 3,
   "id": "4fca1708",
   "metadata": {},
   "outputs": [],
   "source": [
    "# QR code related functions\n",
    "\n",
    "# generate and save a QRcode by input filamentID\n",
    "def gen_QRcode(filamentid):\n",
    "    img = qrcode.make(filamentid)\n",
    "    type(img)\n",
    "    return img\n",
    "\n",
    "# read QR code by img\n",
    "def read_QRcode(img):\n",
    "    try:\n",
    "        detect = cv2.QRCodeDetector()\n",
    "        value, points, straight_qrcode = detect.detectAndDecode(img)\n",
    "        return value\n",
    "    except:\n",
    "        return\n",
    "    \n",
    "# read QR code from a octopi camera\n",
    "# Keep reading until detect QRcode\n",
    "def scan_QRcode_by_printer(printerid):\n",
    "    W = True\n",
    "    while W:\n",
    "        req = urllib.request.urlopen(\"http://172.31.1.22\"+str(printerid+4)+\":8080/?action=snapshot\")#\n",
    "        arr = np.asarray(bytearray(req.read()), dtype=np.uint8)\n",
    "        img = cv2.imdecode(arr, -1)\n",
    "        result = read_QRcode(img)\n",
    "        if result != '':\n",
    "            W = False\n",
    "            return result"
   ]
  },
  {
   "cell_type": "code",
   "execution_count": 30,
   "id": "f36c8a76",
   "metadata": {},
   "outputs": [],
   "source": [
    "# LabelMaker related functions\n",
    "\n",
    "# generate a picture with QR code on left and information on right\n",
    "def generate_label(filamentid, colour, filament_diameter, material, today, price):\n",
    "    qr = gen_QRcode(str(filamentid))\n",
    "    ones = np.ones([290, 500])\n",
    "    font = cv2.FONT_HERSHEY_SIMPLEX\n",
    "    fontScale = 1.15\n",
    "    thickness = 2\n",
    "\n",
    "#     now = datetime.datetime.now().strftime(\"%Y-%m-%d\")\n",
    "    ones = cv2.putText(ones, 'Filament ID : %s' %str(filamentid), (0, 70), font, \n",
    "                       fontScale, 0, thickness, cv2.LINE_AA)\n",
    "    ones = cv2.putText(ones, '%s         %s' %(colour, material), (0, 125), font, \n",
    "                       fontScale, 0, thickness, cv2.LINE_AA)\n",
    "    ones = cv2.putText(ones, '%s%s      %s%s' %(filament_diameter, 'mm', '$', price), (0, 180), font, \n",
    "                       fontScale, 0, thickness, cv2.LINE_AA)\n",
    "    ones = cv2.putText(ones, 'Open Date: %s' %today, (0, 235), font, \n",
    "                       fontScale, 0, thickness, cv2.LINE_AA)\n",
    "    pic = np.concatenate([qr, ones], axis=1)\n",
    "    return pic*255\n",
    "\n",
    "# Original code from brother_ql\n",
    "def send_to_labelmaker(im):\n",
    "    im = Image.fromarray(im)\n",
    "    backend = 'pyusb'    # 'pyusb', 'linux_kernal', 'network'\n",
    "    model = 'QL-700' # your printer model.\n",
    "    printer = 'usb://0x04f9:0x2042'  # Get these values from the Windows usb driver filter.  Linux/Raspberry Pi uses '/dev/usb/lp0'.\n",
    "    qlr = BrotherQLRaster(model)\n",
    "    qlr.exception_on_warning = True\n",
    "\n",
    "    instructions = convert(\n",
    "            qlr=qlr, \n",
    "            images=[im],    #  Takes a list of file names or PIL objects.\n",
    "            label='62', \n",
    "            rotate='0',    # 'Auto', '0', '90', '270'\n",
    "            threshold=70.0,    # Black and white threshold in percent.\n",
    "            dither=False, \n",
    "            compress=False, \n",
    "            red=False,    # Only True if using Red/Black 62 mm label tape.\n",
    "            dpi_600=False, \n",
    "            hq=True,    # False for low quality.\n",
    "            cut=True\n",
    "\n",
    "    )\n",
    "\n",
    "    send(instructions=instructions, printer_identifier=printer, backend_identifier=backend, blocking=True)"
   ]
  },
  {
   "cell_type": "code",
   "execution_count": 31,
   "id": "aa5cf892",
   "metadata": {},
   "outputs": [
    {
     "data": {
      "text/plain": [
       "True"
      ]
     },
     "execution_count": 31,
     "metadata": {},
     "output_type": "execute_result"
    }
   ],
   "source": [
    "# im = generate_label(1, 'Green', '1.75', 'PLA+', '0000-11-22', '26.9')\n",
    "# cv2.imwrite('test.png', im)\n",
    "# send_to_labelmaker(im)"
   ]
  },
  {
   "cell_type": "code",
   "execution_count": 15,
   "id": "613987b6",
   "metadata": {},
   "outputs": [
    {
     "name": "stderr",
     "output_type": "stream",
     "text": [
      "Need to resize the image...\n"
     ]
    },
    {
     "data": {
      "text/plain": [
       "{'instructions_sent': True,\n",
       " 'outcome': 'printed',\n",
       " 'printer_state': {'status_type': 'Phase change',\n",
       "  'phase_type': 'Waiting to receive',\n",
       "  'media_type': 'Continuous length tape',\n",
       "  'media_width': 62,\n",
       "  'media_length': 0,\n",
       "  'errors': []},\n",
       " 'did_print': True,\n",
       " 'ready_for_next_job': True}"
      ]
     },
     "execution_count": 15,
     "metadata": {},
     "output_type": "execute_result"
    }
   ],
   "source": [
    "# 原始copy过来的brother_ql的example code\n",
    "\n",
    "# im = Image.open('try.png')\n",
    "# im.resize((10, 10)) \n",
    "\n",
    "# backend = 'pyusb'    # 'pyusb', 'linux_kernal', 'network'\n",
    "# model = 'QL-700' # your printer model.\n",
    "# printer = 'usb://0x04f9:0x2042'  #04f9&pid 2042&rev 0100\n",
    "# # Get these values from the Windows usb driver filter.  Linux/Raspberry Pi uses '/dev/usb/lp0'.\n",
    "# # printer = 'usbstor.inf:392c3d533eff3360:USBSTOR_BULK.NT:10.0.19041.1949:USB\\Class_08&SubClass_06&Prot_50'  \n",
    "# qlr = BrotherQLRaster(model)\n",
    "# qlr.exception_on_warning = True\n",
    "\n",
    "# instructions = convert(\n",
    "\n",
    "#         qlr=qlr, \n",
    "#         images=[im],    #  Takes a list of file names or PIL objects.\n",
    "#         label='62', \n",
    "#         rotate='0',    # 'Auto', '0', '90', '270'\n",
    "#         threshold=70.0,    # Black and white threshold in percent.\n",
    "#         dither=False, \n",
    "#         compress=False, \n",
    "#         red=False,    # Only True if using Red/Black 62 mm label tape.\n",
    "#         dpi_600=False, \n",
    "#         hq=True,    # False for low quality.\n",
    "#         cut=True\n",
    "\n",
    "# )\n",
    "\n",
    "# send(instructions=instructions, printer_identifier=printer, backend_identifier=backend, blocking=True)"
   ]
  },
  {
   "cell_type": "code",
   "execution_count": 18,
   "id": "f9199439",
   "metadata": {},
   "outputs": [],
   "source": [
    "connection = psycopg2.connect(database='developer', user='postgres', password='4321', host='localhost')"
   ]
  },
  {
   "cell_type": "code",
   "execution_count": 19,
   "id": "66e11482",
   "metadata": {},
   "outputs": [],
   "source": [
    "cursor=connection.cursor()"
   ]
  },
  {
   "cell_type": "code",
   "execution_count": 20,
   "id": "e8b79c10",
   "metadata": {},
   "outputs": [],
   "source": [
    "from database import CursorFromConnectionPool\n",
    "from database import Database"
   ]
  },
  {
   "cell_type": "code",
   "execution_count": 21,
   "id": "0932157d",
   "metadata": {},
   "outputs": [],
   "source": [
    "Database.initialise(database=\"developer\", user=\"postgres\", password=\"4321\", host=\"localhost\")"
   ]
  },
  {
   "cell_type": "code",
   "execution_count": 22,
   "id": "cb0a581f",
   "metadata": {},
   "outputs": [],
   "source": [
    "# no filamentID required for input, generate automatically when input new filament info\n",
    "class Filament:\n",
    "    def __init__(self, material, colour, filament_diameter, current_loc, price, open_date, brand, left_weight):\n",
    "        self.material = material\n",
    "        self.colour = colour\n",
    "        self.filament_diameter = filament_diameter\n",
    "        self.current_loc = current_loc\n",
    "        self.price = price\n",
    "        self.open_date = open_date\n",
    "        self.brand = brand\n",
    "        self.left_weight = left_weight\n",
    "    \n",
    "    @classmethod\n",
    "    # when take a filament off from the printer and update its weight to database\n",
    "    # should scan the QR code first to get the filament id\n",
    "    def update_filament_weight(cls, filamentid, new_weight):\n",
    "        with CursorFromConnectionPool() as cursor:\n",
    "            cursor.execute('UPDATE filament SET left_weight=%s WHERE filamentid=%s;', (new_weight, filamentid,))\n",
    "    @classmethod\n",
    "    # when take a filament off from the printer and update its weight to database\n",
    "    # should scan the QR code first to get the filament id\n",
    "    def update_filament_loc(cls, filamentid, new_loc):\n",
    "        with CursorFromConnectionPool() as cursor:\n",
    "            cursor.execute('UPDATE filament SET current_loc=%s WHERE filamentid=%s;', (new_loc, filamentid,))\n",
    "    @classmethod\n",
    "    # add a new roll of filament to database\n",
    "    # automatically print QR code from labelmaker\n",
    "    def add_new_filament(cls, material, colour, filament_diameter, current_loc, price, brand, left_weight): \n",
    "        with CursorFromConnectionPool() as cursor:\n",
    "            today = datetime.datetime.now().strftime(\"%Y-%m-%d\")\n",
    "            cursor.execute('INSERT INTO filament (material, colour, filament_diameter, current_loc, \\\n",
    "            price, open_date, brand, left_weight) VALUES (%s, %s, %s, %s, %s, %s, %s, %s)',\n",
    "                            (material, colour, filament_diameter, current_loc, price, today, brand, left_weight,))\n",
    "            cursor.execute('SELECT filamentid FROM filament ORDER BY filamentid DESC')\n",
    "            filamentid = cursor.fetchone()[0]\n",
    "            im = generate_label(filamentid, colour, filament_diameter, material, today, price)\n",
    "            send_to_labelmaker(im)\n",
    "#----------------------under construction from here downwards--------------------------\n",
    "\n",
    "    "
   ]
  },
  {
   "cell_type": "code",
   "execution_count": 23,
   "id": "046423c9",
   "metadata": {},
   "outputs": [
    {
     "name": "stderr",
     "output_type": "stream",
     "text": [
      "Need to resize the image...\n"
     ]
    }
   ],
   "source": [
    "Filament.add_new_filament('PLA+','green', '1.75', 'shelf_2_1', '26.9', '3DFILLIES', '1000')"
   ]
  },
  {
   "cell_type": "code",
   "execution_count": 108,
   "id": "cedf350d",
   "metadata": {},
   "outputs": [],
   "source": [
    "# scan_QRcode_by_printer(4)"
   ]
  },
  {
   "cell_type": "code",
   "execution_count": 60,
   "id": "cf1e2836",
   "metadata": {},
   "outputs": [],
   "source": [
    "# no filamentID required for input, generate automatically when input new filament info\n",
    "class Printer:\n",
    "    def __init__(self, status, printer_model, filamentid):\n",
    "        self.status = status\n",
    "        self.printer_model = printer_model\n",
    "        self.filamentid = filamentid\n",
    "    @classmethod\n",
    "    # add a new roll of filament to database\n",
    "    # should scan the QR code first to get the filament id\n",
    "    def unload_filament_by_printer(cls, printerid): \n",
    "        with CursorFromConnectionPool() as cursor:\n",
    "            cursor.execute('UPDATE printer SET filamentid=NULL WHERE printerid=%s;', (printerid,))\n",
    "    @classmethod\n",
    "    # when take a filament off from the printer and update its weight to database\n",
    "    # should scan the QR code first to get the filament id\n",
    "    def load_filamentid_by_printer(cls, printerid, filamentid):\n",
    "        with CursorFromConnectionPool() as cursor:\n",
    "            cursor.execute('UPDATE printer SET filamentid=%s WHERE printerid=%s;', (filamentid, printerid,))\n",
    "    @classmethod\n",
    "    # printer change status, update its new status to database\n",
    "    def update_status_by_printer(cls, printerid, new_status):\n",
    "        with CursorFromConnectionPool() as cursor:\n",
    "            cursor.execute('UPDATE printer SET status=%s WHERE printerid=%s;', (new_status, printerid,))\n",
    "    @classmethod\n",
    "    # unload filament with scanning\n",
    "    def unload_filament_with_scan_by_printer(cls, printerid):\n",
    "        with CursorFromConnectionPool() as cursor:\n",
    "            cursor.execute('SELECT status, filamentid FROM printer WHERE printerid=%s;', \\\n",
    "                           (printerid,))\n",
    "            status, filamentid = cursor.fetchone()\n",
    "            if status=='changing_filament':\n",
    "                if filamentid != None:\n",
    "                    cursor.execute('UPDATE printer SET filamentid=NULL WHERE printerid=%s;', (printerid,))\n",
    "                    old_filament = scan_QRcode_by_printer(printerid)\n",
    "                    print('Filament%s unloaded from Printer%s successfully' %(str(old_filament), str(printerid)))\n",
    "                else:\n",
    "                    print('Printer%s is not loaded with any filament' %(str(printerid)))\n",
    "            else:\n",
    "                print('Please set Printer%s status to \"changing_filament\" to change filament' %(str(printerid)))\n",
    "                \n",
    "    @classmethod\n",
    "    # load filament with scanning\n",
    "    def load_filament_with_scan_by_printer(cls, printerid):\n",
    "        with CursorFromConnectionPool() as cursor:\n",
    "            cursor.execute('SELECT status, filamentid FROM printer WHERE printerid=%s;', \\\n",
    "                           (printerid,))\n",
    "            status, filamentid = cursor.fetchone()\n",
    "            if status=='changing_filament':\n",
    "                if filamentid != None:\n",
    "                    print('Please unload the current filament from Printer%s first' %(str(printerid)))\n",
    "                else:\n",
    "                    new_filament = scan_QRcode_by_printer(printerid)\n",
    "                    cursor.execute('UPDATE printer SET filamentid=%s WHERE printerid=%s;', (new_filament, printerid,))\n",
    "                    print('Filament%s has been loaded on Printer%s successfully' %(str(new_filament), str(printerid))) \n",
    "            else:\n",
    "                print('Please set Printer%s status to \"changing_filament\" to change filament' %(str(printerid)))\n",
    "#----------------------under construction from here downwards--------------------------"
   ]
  },
  {
   "cell_type": "code",
   "execution_count": 109,
   "id": "09f5765a",
   "metadata": {},
   "outputs": [],
   "source": [
    "Printer.load_filament_with_scan_by_printer('4')"
   ]
  },
  {
   "cell_type": "code",
   "execution_count": 71,
   "id": "f9f92437",
   "metadata": {},
   "outputs": [
    {
     "data": {
      "text/plain": [
       "'1'"
      ]
     },
     "execution_count": 71,
     "metadata": {},
     "output_type": "execute_result"
    }
   ],
   "source": [
    "img = cv2.imread('qr1.png')\n",
    "read_QRcode(img)"
   ]
  },
  {
   "cell_type": "code",
   "execution_count": 11,
   "id": "a0d7bbc0",
   "metadata": {},
   "outputs": [
    {
     "name": "stdout",
     "output_type": "stream",
     "text": [
      "Decimal VendorID=1273 & ProductID=8258\n",
      "Hexadecimal VendorID=0x4f9 & ProductID=0x2042\n",
      "\n"
     ]
    }
   ],
   "source": [
    "# Keenan写的用来检测labelmaker的usbid的code\n",
    "#!/usr/bin/python\n",
    "import sys\n",
    "import usb.core\n",
    "# find USB devices\n",
    "dev = usb.core.find(find_all=True)\n",
    "# loop through devices, printing vendor and product ids in decimal and hex\n",
    "for cfg in dev:\n",
    "  sys.stdout.write('Decimal VendorID=' + str(cfg.idVendor) + ' & ProductID=' + str(cfg.idProduct) + '\\n')\n",
    "  sys.stdout.write('Hexadecimal VendorID=' + hex(cfg.idVendor) + ' & ProductID=' + hex(cfg.idProduct) + '\\n\\n')"
   ]
  },
  {
   "cell_type": "code",
   "execution_count": null,
   "id": "07900880",
   "metadata": {},
   "outputs": [],
   "source": []
  }
 ],
 "metadata": {
  "kernelspec": {
   "display_name": "Python 3 (ipykernel)",
   "language": "python",
   "name": "python3"
  },
  "language_info": {
   "codemirror_mode": {
    "name": "ipython",
    "version": 3
   },
   "file_extension": ".py",
   "mimetype": "text/x-python",
   "name": "python",
   "nbconvert_exporter": "python",
   "pygments_lexer": "ipython3",
   "version": "3.9.13"
  }
 },
 "nbformat": 4,
 "nbformat_minor": 5
}
