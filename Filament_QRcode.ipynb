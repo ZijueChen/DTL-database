{
 "cells": [
  {
   "cell_type": "code",
   "execution_count": 1,
   "id": "f0fc7b4a",
   "metadata": {},
   "outputs": [],
   "source": [
    "# This file stores the filament related SQL database functions and generating QR code"
   ]
  },
  {
   "cell_type": "code",
   "execution_count": 1,
   "id": "e8d7eadf",
   "metadata": {},
   "outputs": [],
   "source": [
    "import qrcode\n",
    "import cv2\n",
    "import urllib\n",
    "import numpy as np\n",
    "import psycopg2\n",
    "import datetime"
   ]
  },
  {
   "cell_type": "code",
   "execution_count": 2,
   "id": "f9199439",
   "metadata": {},
   "outputs": [],
   "source": [
    "connection = psycopg2.connect(database='developer', user='postgres', password='4321', host='localhost')"
   ]
  },
  {
   "cell_type": "code",
   "execution_count": 3,
   "id": "66e11482",
   "metadata": {},
   "outputs": [],
   "source": [
    "cursor=connection.cursor()"
   ]
  },
  {
   "cell_type": "code",
   "execution_count": 4,
   "id": "e8b79c10",
   "metadata": {},
   "outputs": [],
   "source": [
    "from database import CursorFromConnectionPool\n",
    "from database import Database"
   ]
  },
  {
   "cell_type": "code",
   "execution_count": 5,
   "id": "cb0a581f",
   "metadata": {},
   "outputs": [],
   "source": [
    "# no filamentID required for input, generate automatically when input new filament info\n",
    "class Filament:\n",
    "    def __init__(self, material, colour, current_loc, price, brand, left_weight):\n",
    "        self.material = material\n",
    "        self.colour = colour\n",
    "        self.current_loc = current_loc\n",
    "        self.price = price\n",
    "        self.brand = brand\n",
    "        self.left_weight = left_weight\n",
    "    @classmethod\n",
    "    # add a new roll of filament to database\n",
    "    def add_new_filament(cls, material, colour, current_loc, price, brand, left_weight): \n",
    "        with CursorFromConnectionPool() as cursor:\n",
    "            cursor.execute('INSERT INTO filament (material, colour, current_loc, price, brand, left_weight) VALUES (%s, %s, %s, %s, %s, %s)',\n",
    "                            (material, colour, current_loc, price, brand, left_weight,))\n",
    "    @classmethod\n",
    "    # when take a filament off from the printer and update its weight to database\n",
    "    def update_filament_weight(cls, filamentid, new_weight):\n",
    "        with CursorFromConnectionPool() as cursor:\n",
    "            cursor.execute('UPDATE filament SET left_weight=%s WHERE filamentid=%s;', (new_weight, filamentid,))\n",
    "    \n",
    "#----------------------under construction from here downwards--------------------------\n",
    "    @classmethod\n",
    "    # when take a filament off from the printer and update its weight to database\n",
    "    def update_filament_loc(cls, filamentid, new_loc):\n",
    "        with CursorFromConnectionPool() as cursor:\n",
    "            cursor.execute('UPDATE filament SET current_loc=%s WHERE filamentid=%s;', (new_loc, filamentid,))"
   ]
  },
  {
   "cell_type": "code",
   "execution_count": 6,
   "id": "0932157d",
   "metadata": {},
   "outputs": [],
   "source": [
    "Database.initialise(database=\"developer\", user=\"postgres\", password=\"4321\", host=\"localhost\")"
   ]
  },
  {
   "cell_type": "code",
   "execution_count": 7,
   "id": "cf1e2836",
   "metadata": {},
   "outputs": [],
   "source": [
    "# no filamentID required for input, generate automatically when input new filament info\n",
    "class Printer:\n",
    "    def __init__(self, status, printer_model, filamentid):\n",
    "        self.status = status\n",
    "        self.printer_model = printer_model\n",
    "        self.filamentid = filamentid\n",
    "    @classmethod\n",
    "    # add a new roll of filament to database\n",
    "    def unload_filament_by_printer(cls, printerid): \n",
    "        with CursorFromConnectionPool() as cursor:\n",
    "            cursor.execute('UPDATE printer SET filamentid=NULL WHERE printerid=%s;', (printerid,))\n",
    "    @classmethod\n",
    "    # when take a filament off from the printer and update its weight to database\n",
    "    def load_filamentid_by_printer(cls, printerid, filamentid):\n",
    "        with CursorFromConnectionPool() as cursor:\n",
    "            cursor.execute('UPDATE printer SET filamentid=%s WHERE printerid=%s;', (filamentid, printerid,))\n",
    "    @classmethod\n",
    "    # when take a filament off from the printer and update its weight to database\n",
    "    def update_status_by_printer(cls, printerid, new_status):\n",
    "        with CursorFromConnectionPool() as cursor:\n",
    "            cursor.execute('UPDATE printer SET status=%s WHERE printerid=%s;', (new_status, printerid,))\n",
    "#----------------------under construction from here downwards--------------------------\n"
   ]
  },
  {
   "cell_type": "code",
   "execution_count": 9,
   "id": "046423c9",
   "metadata": {},
   "outputs": [],
   "source": [
    "Printer.update_status_by_printer('3','working')"
   ]
  },
  {
   "cell_type": "code",
   "execution_count": 2,
   "id": "4fca1708",
   "metadata": {},
   "outputs": [],
   "source": [
    "# generate and save a QRcode by input filamentID\n",
    "def gen_QRcode(filamentid):\n",
    "    img = qrcode.make(filamentid)\n",
    "    type(img)\n",
    "    img.save('qr'+filamentid+'.png')"
   ]
  },
  {
   "cell_type": "code",
   "execution_count": 5,
   "id": "f36c8a76",
   "metadata": {},
   "outputs": [],
   "source": [
    "gen_QRcode('7')"
   ]
  },
  {
   "cell_type": "code",
   "execution_count": 26,
   "id": "1e659236",
   "metadata": {},
   "outputs": [],
   "source": [
    "# read QR code by img\n",
    "def read_QRcode(img):\n",
    "    try:\n",
    "        detect = cv2.QRCodeDetector()\n",
    "        value, points, straight_qrcode = detect.detectAndDecode(img)\n",
    "        return value\n",
    "    except:\n",
    "        return"
   ]
  },
  {
   "cell_type": "code",
   "execution_count": 27,
   "id": "93dbbfce",
   "metadata": {},
   "outputs": [],
   "source": [
    "# read QR code from a octopi camera\n",
    "# Keep reading until detect QRcode\n",
    "def scan_QRcode_by_printer(printerid):\n",
    "    W = True\n",
    "    while W:\n",
    "        req = urllib.request.urlopen(\"http://octopi\"+str(printerid)+\":8080/?action=snapshot\")\n",
    "        arr = np.asarray(bytearray(req.read()), dtype=np.uint8)\n",
    "        img = cv2.imdecode(arr, -1)\n",
    "        result = read_QRcode(img)\n",
    "        if result != '':\n",
    "            W = False\n",
    "            return result"
   ]
  },
  {
   "cell_type": "code",
   "execution_count": 34,
   "id": "b52d9767",
   "metadata": {},
   "outputs": [
    {
     "data": {
      "text/plain": [
       "'2'"
      ]
     },
     "execution_count": 34,
     "metadata": {},
     "output_type": "execute_result"
    }
   ],
   "source": [
    "scan_QRcode_by_printer(3)"
   ]
  },
  {
   "cell_type": "code",
   "execution_count": null,
   "id": "a0d7bbc0",
   "metadata": {},
   "outputs": [],
   "source": []
  }
 ],
 "metadata": {
  "kernelspec": {
   "display_name": "Python 3 (ipykernel)",
   "language": "python",
   "name": "python3"
  },
  "language_info": {
   "codemirror_mode": {
    "name": "ipython",
    "version": 3
   },
   "file_extension": ".py",
   "mimetype": "text/x-python",
   "name": "python",
   "nbconvert_exporter": "python",
   "pygments_lexer": "ipython3",
   "version": "3.9.13"
  }
 },
 "nbformat": 4,
 "nbformat_minor": 5
}
