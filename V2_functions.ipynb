{
 "cells": [
  {
   "cell_type": "code",
   "execution_count": 1,
   "id": "f0fc7b4a",
   "metadata": {},
   "outputs": [],
   "source": [
    "# This file stores the filament related SQL database functions and generating QR code"
   ]
  },
  {
   "cell_type": "code",
   "execution_count": 1,
   "id": "15899d22",
   "metadata": {},
   "outputs": [
    {
     "name": "stderr",
     "output_type": "stream",
     "text": [
      "deprecation warning: brother_ql.devicedependent is deprecated and will be removed in a future release\n"
     ]
    }
   ],
   "source": [
    "from PIL import Image\n",
    "from brother_ql.conversion import convert\n",
    "from brother_ql.backends.helpers import send\n",
    "from brother_ql.raster import BrotherQLRaster"
   ]
  },
  {
   "cell_type": "code",
   "execution_count": 2,
   "id": "e8d7eadf",
   "metadata": {},
   "outputs": [],
   "source": [
    "import qrcode\n",
    "import cv2\n",
    "import urllib\n",
    "import numpy as np\n",
    "import psycopg2\n",
    "import datetime"
   ]
  },
  {
   "cell_type": "code",
   "execution_count": 3,
   "id": "4fca1708",
   "metadata": {},
   "outputs": [],
   "source": [
    "# QR code related functions\n",
    "\n",
    "# generate and save a QRcode by input filamentID\n",
    "def gen_QRcode(filamentid):\n",
    "    img = qrcode.make(filamentid)\n",
    "    type(img)\n",
    "    return img\n",
    "\n",
    "# read QR code by img\n",
    "def read_QRcode(img):\n",
    "    try:\n",
    "        detect = cv2.QRCodeDetector()\n",
    "        value, points, straight_qrcode = detect.detectAndDecode(img)\n",
    "        return value\n",
    "    except:\n",
    "        return\n",
    "    \n",
    "# read QR code from a octopi camera\n",
    "# Keep reading until detect QRcode\n",
    "def scan_QRcode_by_printer(printerid):\n",
    "    W = True\n",
    "    while W:\n",
    "        req = urllib.request.urlopen(\"http://172.31.1.22\"+str(printerid+4)+\":8080/?action=snapshot\")#\n",
    "        arr = np.asarray(bytearray(req.read()), dtype=np.uint8)\n",
    "        img = cv2.imdecode(arr, -1)\n",
    "        result = read_QRcode(img)\n",
    "        if result != '':\n",
    "            W = False\n",
    "            return result"
   ]
  },
  {
   "cell_type": "code",
   "execution_count": 4,
   "id": "f36c8a76",
   "metadata": {},
   "outputs": [],
   "source": [
    "# LabelMaker related functions\n",
    "\n",
    "# generate a picture with QR code on left and information on right\n",
    "def generate_label(filamentid, colour, filament_diameter, material, today, price):\n",
    "    qr = gen_QRcode(str(filamentid))\n",
    "    ones = np.ones([290, 500])\n",
    "    font = cv2.FONT_HERSHEY_SIMPLEX\n",
    "    fontScale = 1.15\n",
    "    thickness = 2\n",
    "\n",
    "#     now = datetime.datetime.now().strftime(\"%Y-%m-%d\")\n",
    "    ones = cv2.putText(ones, 'Filament ID : %s' %str(filamentid), (0, 70), font, \n",
    "                       fontScale, 0, thickness, cv2.LINE_AA)\n",
    "    ones = cv2.putText(ones, '%s         %s' %(colour, material), (0, 125), font, \n",
    "                       fontScale, 0, thickness, cv2.LINE_AA)\n",
    "    ones = cv2.putText(ones, '%s%s      %s%s' %(filament_diameter, 'mm', '$', price), (0, 180), font, \n",
    "                       fontScale, 0, thickness, cv2.LINE_AA)\n",
    "    ones = cv2.putText(ones, 'Open Date: %s' %today, (0, 235), font, \n",
    "                       fontScale, 0, thickness, cv2.LINE_AA)\n",
    "    pic = np.concatenate([qr, ones], axis=1)\n",
    "    return pic*255\n",
    "\n",
    "# Original code from brother_ql\n",
    "def send_to_labelmaker(im):\n",
    "    im = Image.fromarray(im)\n",
    "    backend = 'pyusb'    # 'pyusb', 'linux_kernal', 'network'\n",
    "    model = 'QL-700' # your printer model.\n",
    "    printer = 'usb://0x04f9:0x2042'  # Get these values from the Windows usb driver filter.  Linux/Raspberry Pi uses '/dev/usb/lp0'.\n",
    "    qlr = BrotherQLRaster(model)\n",
    "    qlr.exception_on_warning = True\n",
    "\n",
    "    instructions = convert(\n",
    "            qlr=qlr, \n",
    "            images=[im],    #  Takes a list of file names or PIL objects.\n",
    "            label='62', \n",
    "            rotate='0',    # 'Auto', '0', '90', '270'\n",
    "            threshold=70.0,    # Black and white threshold in percent.\n",
    "            dither=False, \n",
    "            compress=False, \n",
    "            red=False,    # Only True if using Red/Black 62 mm label tape.\n",
    "            dpi_600=False, \n",
    "            hq=True,    # False for low quality.\n",
    "            cut=True\n",
    "\n",
    "    )\n",
    "\n",
    "    send(instructions=instructions, printer_identifier=printer, backend_identifier=backend, blocking=True)"
   ]
  },
  {
   "cell_type": "code",
   "execution_count": 31,
   "id": "aa5cf892",
   "metadata": {},
   "outputs": [
    {
     "data": {
      "text/plain": [
       "True"
      ]
     },
     "execution_count": 31,
     "metadata": {},
     "output_type": "execute_result"
    }
   ],
   "source": [
    "# im = generate_label(1, 'Green', '1.75', 'PLA+', '0000-11-22', '26.9')\n",
    "# cv2.imwrite('test.png', im)\n",
    "# send_to_labelmaker(im)"
   ]
  },
  {
   "cell_type": "code",
   "execution_count": 15,
   "id": "613987b6",
   "metadata": {},
   "outputs": [
    {
     "name": "stderr",
     "output_type": "stream",
     "text": [
      "Need to resize the image...\n"
     ]
    },
    {
     "data": {
      "text/plain": [
       "{'instructions_sent': True,\n",
       " 'outcome': 'printed',\n",
       " 'printer_state': {'status_type': 'Phase change',\n",
       "  'phase_type': 'Waiting to receive',\n",
       "  'media_type': 'Continuous length tape',\n",
       "  'media_width': 62,\n",
       "  'media_length': 0,\n",
       "  'errors': []},\n",
       " 'did_print': True,\n",
       " 'ready_for_next_job': True}"
      ]
     },
     "execution_count": 15,
     "metadata": {},
     "output_type": "execute_result"
    }
   ],
   "source": [
    "# 原始copy过来的brother_ql的example code\n",
    "\n",
    "# im = Image.open('try.png')\n",
    "# im.resize((10, 10)) \n",
    "\n",
    "# backend = 'pyusb'    # 'pyusb', 'linux_kernal', 'network'\n",
    "# model = 'QL-700' # your printer model.\n",
    "# printer = 'usb://0x04f9:0x2042'  #04f9&pid 2042&rev 0100\n",
    "# # Get these values from the Windows usb driver filter.  Linux/Raspberry Pi uses '/dev/usb/lp0'.\n",
    "# # printer = 'usbstor.inf:392c3d533eff3360:USBSTOR_BULK.NT:10.0.19041.1949:USB\\Class_08&SubClass_06&Prot_50'  \n",
    "# qlr = BrotherQLRaster(model)\n",
    "# qlr.exception_on_warning = True\n",
    "\n",
    "# instructions = convert(\n",
    "\n",
    "#         qlr=qlr, \n",
    "#         images=[im],    #  Takes a list of file names or PIL objects.\n",
    "#         label='62', \n",
    "#         rotate='0',    # 'Auto', '0', '90', '270'\n",
    "#         threshold=70.0,    # Black and white threshold in percent.\n",
    "#         dither=False, \n",
    "#         compress=False, \n",
    "#         red=False,    # Only True if using Red/Black 62 mm label tape.\n",
    "#         dpi_600=False, \n",
    "#         hq=True,    # False for low quality.\n",
    "#         cut=True\n",
    "\n",
    "# )\n",
    "\n",
    "# send(instructions=instructions, printer_identifier=printer, backend_identifier=backend, blocking=True)"
   ]
  },
  {
   "cell_type": "code",
   "execution_count": 5,
   "id": "f9199439",
   "metadata": {},
   "outputs": [],
   "source": [
    "connection = psycopg2.connect(database='DTLSQLV2', user='postgres', password='4321', host='localhost')"
   ]
  },
  {
   "cell_type": "code",
   "execution_count": 6,
   "id": "66e11482",
   "metadata": {},
   "outputs": [],
   "source": [
    "cursor=connection.cursor()"
   ]
  },
  {
   "cell_type": "code",
   "execution_count": 7,
   "id": "e8b79c10",
   "metadata": {},
   "outputs": [],
   "source": [
    "from database import CursorFromConnectionPool\n",
    "from database import Database"
   ]
  },
  {
   "cell_type": "code",
   "execution_count": 8,
   "id": "0932157d",
   "metadata": {},
   "outputs": [],
   "source": [
    "Database.initialise(database=\"DTLSQLV2\", user=\"postgres\", password=\"4321\", host=\"localhost\")"
   ]
  },
  {
   "cell_type": "code",
   "execution_count": 9,
   "id": "cb0a581f",
   "metadata": {},
   "outputs": [],
   "source": [
    "# no filamentID required for input, generate automatically when input new filament info\n",
    "class Filament:\n",
    "    def __init__(self, material, colour, filament_diameter, current_loc, price, open_date, brand, left_weight):\n",
    "        self.material = material\n",
    "        self.colour = colour\n",
    "        self.filament_diameter = filament_diameter\n",
    "        self.current_loc = current_loc\n",
    "        self.price = price\n",
    "        self.open_date = open_date\n",
    "        self.brand = brand\n",
    "        self.left_weight = left_weight\n",
    "    \n",
    "    @classmethod\n",
    "    # when take a filament off from the printer and update its weight to database\n",
    "    # should scan the QR code first to get the filament id\n",
    "    def update_filament_weight(cls, filamentid, new_weight):\n",
    "        with CursorFromConnectionPool() as cursor:\n",
    "            cursor.execute('UPDATE filament SET left_weight=%s WHERE filamentid=%s;', (new_weight, filamentid,))\n",
    "    @classmethod\n",
    "    # when take a filament off from the printer and update its weight to database\n",
    "    # should scan the QR code first to get the filament id\n",
    "    def update_filament_loc(cls, filamentid, new_loc):\n",
    "        with CursorFromConnectionPool() as cursor:\n",
    "            cursor.execute('UPDATE filament SET current_loc=%s WHERE filamentid=%s;', (new_loc, filamentid,))\n",
    "    @classmethod\n",
    "    # add a new roll of filament to database\n",
    "    # automatically print QR code from labelmaker\n",
    "    def add_new_filament(cls, material, colour, filament_diameter, current_loc, price, brand, left_weight): \n",
    "        with CursorFromConnectionPool() as cursor:\n",
    "            today = datetime.datetime.now().strftime(\"%Y-%m-%d\")\n",
    "            cursor.execute('INSERT INTO filament (material, colour, filament_diameter, current_loc, \\\n",
    "            price, open_date, brand, left_weight) VALUES (%s, %s, %s, %s, %s, %s, %s, %s)',\n",
    "                            (material, colour, filament_diameter, current_loc, price, today, brand, left_weight,))\n",
    "            cursor.execute('SELECT filamentid FROM filament ORDER BY filamentid DESC')\n",
    "            filamentid = cursor.fetchone()[0]\n",
    "            im = generate_label(filamentid, colour, filament_diameter, material, today, price)\n",
    "            send_to_labelmaker(im)\n",
    "#----------------------under construction from here downwards--------------------------\n",
    "    @classmethod\n",
    "    # 新增一个filament 随便写来不trigger label maker用python自动生成虚假数据的\n",
    "    def add_new_filament_no_label(cls, material, colour, filament_diameter, current_loc, price, date, brand, left_weight): \n",
    "        with CursorFromConnectionPool() as cursor:\n",
    "            cursor.execute('INSERT INTO filament (material, colour, filament_diameter, current_loc, \\\n",
    "            price, open_date, brand, left_weight) VALUES (%s, %s, %s, %s, %s, %s, %s, %s)',\n",
    "                            (material, colour, filament_diameter, current_loc, price, date, brand, left_weight,))\n",
    "    "
   ]
  },
  {
   "cell_type": "code",
   "execution_count": 10,
   "id": "3269207c",
   "metadata": {},
   "outputs": [
    {
     "name": "stdout",
     "output_type": "stream",
     "text": [
      "2022-06-19\n"
     ]
    }
   ],
   "source": [
    "# 用来随便generate日期的\n",
    "from random import randrange\n",
    "from datetime import timedelta\n",
    "\n",
    "def random_date(start, end):\n",
    "    \"\"\"\n",
    "    This function will return a random datetime between two datetime \n",
    "    objects.\n",
    "    \"\"\"\n",
    "    delta = end - start\n",
    "    int_delta = (delta.days * 24 * 60 * 60) + delta.seconds\n",
    "    random_second = randrange(int_delta)\n",
    "    return start + timedelta(seconds=random_second)\n",
    "d1 = datetime.datetime.strptime('2021-1-1', \"%Y-%m-%d\")\n",
    "d2 = datetime.datetime.strptime('2022-10-1', \"%Y-%m-%d\")\n",
    "\n",
    "print(random_date(d1, d2).strftime(\"%Y-%m-%d\"))"
   ]
  },
  {
   "cell_type": "code",
   "execution_count": 64,
   "id": "046423c9",
   "metadata": {},
   "outputs": [],
   "source": [
    "Filament.add_new_filament_no_label('PLA+','white', '1.75', 'notexist', '26.9', random_date(d1, d2).strftime(\"%Y-%m-%d\"), '3DFILLIES', '0')"
   ]
  },
  {
   "cell_type": "code",
   "execution_count": 108,
   "id": "cedf350d",
   "metadata": {},
   "outputs": [],
   "source": [
    "# scan_QRcode_by_printer(4)"
   ]
  },
  {
   "cell_type": "code",
   "execution_count": 11,
   "id": "cf1e2836",
   "metadata": {},
   "outputs": [],
   "source": [
    "class Printer:\n",
    "    def __init__(self, printerid, status, start_time, filamentid):\n",
    "        self.printerid = printerid\n",
    "        self.status = status\n",
    "        self.start_time = start_time\n",
    "        self.filamentid = filamentid\n",
    "    @classmethod\n",
    "    # 加入一个新的printer\n",
    "    def add_new_printer(cls, printerid, status, filamentid): \n",
    "        now = datetime.datetime.now().strftime(\"%Y-%m-%d %H:%M:%S\")\n",
    "        with CursorFromConnectionPool() as cursor:\n",
    "            cursor.execute('INSERT INTO printer_tracking (printerid, status, start_time, filamentid) \\\n",
    "            VALUES (%s, %s, %s, %s)', (printerid, status, now, filamentid))\n",
    "    @classmethod\n",
    "    # 已经有了最初的信息要更新printer的状态 只需要输入printerid和新的状态 时间自动抓取现在 filament自动抓取当前的filament\n",
    "    def update_status_by_printer(cls, printerid, status): \n",
    "        now = datetime.datetime.now().strftime(\"%Y-%m-%d %H:%M:%S\")\n",
    "        with CursorFromConnectionPool() as cursor:\n",
    "            cursor.execute('SELECT filamentid FROM printer_tracking WHERE printerid=%s ORDER BY start_time DESC;', \\\n",
    "                           (printerid,))\n",
    "            filamentid = cursor.fetchone()\n",
    "            cursor.execute('INSERT INTO printer_tracking (printerid, status, start_time, filamentid) \\\n",
    "            VALUES (%s, %s, %s, %s)', (printerid, status, now, filamentid))\n",
    "    @classmethod\n",
    "    # 更改filament 这里不需要check状态是maintaning check maintaning的步骤从OPCUA层面实现\n",
    "    # 没有filament的时候filamentid的位置输入None\n",
    "    def load_filamentid_by_printer(cls, printerid, filamentid):\n",
    "        now = datetime.datetime.now().strftime(\"%Y-%m-%d %H:%M:%S\")\n",
    "        with CursorFromConnectionPool() as cursor:\n",
    "            cursor.execute('SELECT status FROM printer_tracking WHERE printerid=%s ORDER BY start_time DESC;', \\\n",
    "                           (printerid,))\n",
    "            status = cursor.fetchone()\n",
    "            cursor.execute('INSERT INTO printer_tracking (printerid, status, start_time, filamentid) \\\n",
    "            VALUES (%s, %s, %s, %s)', (printerid, status, now, filamentid))\n",
    "#----------------------under construction from here downwards--------------------------\n",
    "\n",
    "    \n",
    "    \n",
    "#     @classmethod\n",
    "#     # printer change status, update its new status to database\n",
    "#     def update_status_by_printer(cls, printerid, new_status):\n",
    "#         with CursorFromConnectionPool() as cursor:\n",
    "#             cursor.execute('UPDATE printer SET status=%s WHERE printerid=%s;', (new_status, printerid,))\n",
    "#     @classmethod\n",
    "#     # unload filament with scanning\n",
    "#     def unload_filament_with_scan_by_printer(cls, printerid):\n",
    "#         with CursorFromConnectionPool() as cursor:\n",
    "#             cursor.execute('SELECT status, filamentid FROM printer WHERE printerid=%s;', \\\n",
    "#                            (printerid,))\n",
    "#             status, filamentid = cursor.fetchone()\n",
    "#             if status=='changing_filament':\n",
    "#                 if filamentid != None:\n",
    "#                     cursor.execute('UPDATE printer SET filamentid=NULL WHERE printerid=%s;', (printerid,))\n",
    "#                     old_filament = scan_QRcode_by_printer(printerid)\n",
    "#                     print('Filament%s unloaded from Printer%s successfully' %(str(old_filament), str(printerid)))\n",
    "#                 else:\n",
    "#                     print('Printer%s is not loaded with any filament' %(str(printerid)))\n",
    "#             else:\n",
    "#                 print('Please set Printer%s status to \"changing_filament\" to change filament' %(str(printerid)))\n",
    "                \n",
    "#     @classmethod\n",
    "#     # load filament with scanning\n",
    "#     def load_filament_with_scan_by_printer(cls, printerid):\n",
    "#         with CursorFromConnectionPool() as cursor:\n",
    "#             cursor.execute('SELECT status, filamentid FROM printer WHERE printerid=%s;', \\\n",
    "#                            (printerid,))\n",
    "#             status, filamentid = cursor.fetchone()\n",
    "#             if status=='changing_filament':\n",
    "#                 if filamentid != None:\n",
    "#                     print('Please unload the current filament from Printer%s first' %(str(printerid)))\n",
    "#                 else:\n",
    "#                     new_filament = scan_QRcode_by_printer(printerid)\n",
    "#                     cursor.execute('UPDATE printer SET filamentid=%s WHERE printerid=%s;', (new_filament, printerid,))\n",
    "#                     print('Filament%s has been loaded on Printer%s successfully' %(str(new_filament), str(printerid))) \n",
    "#             else:\n",
    "#                 print('Please set Printer%s status to \"changing_filament\" to change filament' %(str(printerid)))\n",
    "#----------------------under construction from here downwards--------------------------"
   ]
  },
  {
   "cell_type": "code",
   "execution_count": 12,
   "id": "09f5765a",
   "metadata": {},
   "outputs": [],
   "source": [
    "# Printer.update_status_by_printer('1', 'operational')"
   ]
  },
  {
   "cell_type": "code",
   "execution_count": 58,
   "id": "e3d6d36b",
   "metadata": {},
   "outputs": [],
   "source": [
    "class Printing:\n",
    "    def __init__(self, assigned_printerid, start_time, finish_time, snapshot_path, print_result):\n",
    "        self.assigned_printerid = assigned_printerid\n",
    "        self.start_time = start_time\n",
    "        self.finish_time = finish_time\n",
    "        self.snapshot_path = snapshot_path\n",
    "        self.print_result = print_result\n",
    "    @classmethod\n",
    "    # 开始一个print job 自动发一个partid\n",
    "    def start_part_by_printerid(cls, printerid): \n",
    "        now = datetime.datetime.now().strftime(\"%Y-%m-%d %H:%M:%S\")\n",
    "        with CursorFromConnectionPool() as cursor:\n",
    "            cursor.execute('INSERT INTO printing (assigned_printerid, start_time) VALUES (%s, %s)',\n",
    "                            (printerid, now,))\n",
    "    @classmethod\n",
    "    def snapshot_by_printer(cls, printerid):\n",
    "        req = urllib.request.urlopen(\"http://172.31.1.22\"+str(int(printerid)+4)+\":8080/?action=snapshot\")\n",
    "        arr = np.asarray(bytearray(req.read()), dtype=np.uint8)\n",
    "        img = cv2.imdecode(arr, -1)\n",
    "        return img\n",
    "    @classmethod\n",
    "    # 结束一个print job 只给定printerid 程序自己找该printer现在在print哪个partid\n",
    "    def finish_part_by_printerid(cls, printerid):\n",
    "        with CursorFromConnectionPool() as cursor:\n",
    "            cursor.execute('SELECT partid FROM printing WHERE assigned_printerid=%s AND finish_time IS NULL ORDER BY start_time DESC;', \n",
    "                           (printerid,))\n",
    "            if cursor.fetchone() == None:\n",
    "                print('Printer'+str(printerid)+' does not have unfinished work')\n",
    "            else:\n",
    "                now = datetime.datetime.now()\n",
    "                img = Printing.snapshot_by_printer(printerid)\n",
    "                path = 'snapshots/Printer'+str(printerid)+'_'+str(now.strftime(\"%Y-%m-%d_%H-%M-%S\"))+'.png'\n",
    "#                 print(path)\n",
    "                cv2.imwrite(path, img)\n",
    "                now = now.strftime(\"%Y-%m-%d %H:%M:%S\")\n",
    "                cursor.execute('SELECT partid FROM printing WHERE assigned_printerid=%s AND finish_time IS NULL ORDER BY start_time DESC;', \n",
    "                           (printerid,))\n",
    "                partid = cursor.fetchone()[0]\n",
    "                cursor.execute('UPDATE printing SET finish_time=%s, snapshot_path=%s, print_result=%s WHERE partid=%s;', \n",
    "                               (now, path, 'finished', partid,))\n",
    "#----------------------under construction from here downwards--------------------------\n",
    "\n",
    "    @classmethod\n",
    "    # 取消一个print job 只给定printerid 程序自己找该printer现在在print哪个partid\n",
    "    def cancel_part_by_printerid(cls, printerid):\n",
    "        with CursorFromConnectionPool() as cursor:\n",
    "            cursor.execute('SELECT partid FROM printing WHERE assigned_printerid=%s AND finish_time IS NULL ORDER BY start_time DESC;', \n",
    "                           (printerid,))\n",
    "            if cursor.fetchone() == None:\n",
    "                print('Printer'+str(printerid)+' does not have unfinished work')\n",
    "            else:\n",
    "                now = datetime.datetime.now()\n",
    "                img = Printing.snapshot_by_printer(printerid)\n",
    "                path = 'snapshots/Printer'+str(printerid)+'_'+str(now.strftime(\"%Y-%m-%d_%H-%M-%S\"))+'.png'\n",
    "#                 print(path)\n",
    "                cv2.imwrite(path, img)\n",
    "                now = now.strftime(\"%Y-%m-%d %H:%M:%S\")\n",
    "                cursor.execute('SELECT partid FROM printing WHERE assigned_printerid=%s AND finish_time IS NULL ORDER BY start_time DESC;', \n",
    "                           (printerid,))\n",
    "                partid = cursor.fetchone()[0]\n",
    "                cursor.execute('UPDATE printing SET finish_time=%s, snapshot_path=%s, print_result=%s WHERE partid=%s;', \n",
    "                               (now, path, 'cancelled', partid,))\n",
    "\n",
    "#     @classmethod\n",
    "#     def load_from_db_by_part(cls, partid):\n",
    "#         with CursorFromConnectionPool() as cursor:\n",
    "#             cursor.execute('SELECT * FROM printing WHERE partid=%s', (partid,))\n",
    "#             print_data = cursor.fetchone()\n",
    "#             return cls(status=print_data[1], assigned_printerid=print_data[2], initiate_time=print_data[3], \n",
    "#                        start_time=print_data[4], finish_time=print_data[5], cooldown_time=print_data[6],\n",
    "#                        pickup_time=print_data[7], cleanup_time=print_data[8], snapshot_path=print_data[9],\n",
    "#                        filamentid=print_data[10], used_filament=print_data[11],)\n",
    "    \n",
    "#     @classmethod\n",
    "#     # get current print job on printerX. either waiting or printing. Each printer can have only one job at a time\n",
    "#     def get_current_partid_by_printer(cls, printerid):\n",
    "#         with CursorFromConnectionPool() as cursor:\n",
    "#             cursor.execute('SELECT partid FROM printing WHERE assigned_printerid=%s AND (status=%s OR status=%s\\\n",
    "#              OR status=%s OR status=%s)', (printerid, 'waiting','printing', 'cooling', 'onbed',))\n",
    "#             return cursor.fetchone()[0]\n"
   ]
  },
  {
   "cell_type": "code",
   "execution_count": 59,
   "id": "81cd52ad",
   "metadata": {},
   "outputs": [
    {
     "name": "stdout",
     "output_type": "stream",
     "text": [
      "snapshots/Printer2_2022-10-25_12-22-45.png\n"
     ]
    }
   ],
   "source": [
    "Printing.cancel_part_by_printerid('2')"
   ]
  },
  {
   "cell_type": "code",
   "execution_count": null,
   "id": "08aa045f",
   "metadata": {},
   "outputs": [],
   "source": []
  },
  {
   "cell_type": "code",
   "execution_count": 71,
   "id": "f9f92437",
   "metadata": {},
   "outputs": [
    {
     "data": {
      "text/plain": [
       "'1'"
      ]
     },
     "execution_count": 71,
     "metadata": {},
     "output_type": "execute_result"
    }
   ],
   "source": [
    "img = cv2.imread('qr1.png')\n",
    "read_QRcode(img)"
   ]
  },
  {
   "cell_type": "code",
   "execution_count": 11,
   "id": "a0d7bbc0",
   "metadata": {},
   "outputs": [
    {
     "name": "stdout",
     "output_type": "stream",
     "text": [
      "Decimal VendorID=1273 & ProductID=8258\n",
      "Hexadecimal VendorID=0x4f9 & ProductID=0x2042\n",
      "\n"
     ]
    }
   ],
   "source": [
    "# Keenan写的用来检测labelmaker的usbid的code\n",
    "#!/usr/bin/python\n",
    "import sys\n",
    "import usb.core\n",
    "# find USB devices\n",
    "dev = usb.core.find(find_all=True)\n",
    "# loop through devices, printing vendor and product ids in decimal and hex\n",
    "for cfg in dev:\n",
    "  sys.stdout.write('Decimal VendorID=' + str(cfg.idVendor) + ' & ProductID=' + str(cfg.idProduct) + '\\n')\n",
    "  sys.stdout.write('Hexadecimal VendorID=' + hex(cfg.idVendor) + ' & ProductID=' + hex(cfg.idProduct) + '\\n\\n')"
   ]
  },
  {
   "cell_type": "code",
   "execution_count": null,
   "id": "07900880",
   "metadata": {},
   "outputs": [],
   "source": []
  }
 ],
 "metadata": {
  "kernelspec": {
   "display_name": "Python 3 (ipykernel)",
   "language": "python",
   "name": "python3"
  },
  "language_info": {
   "codemirror_mode": {
    "name": "ipython",
    "version": 3
   },
   "file_extension": ".py",
   "mimetype": "text/x-python",
   "name": "python",
   "nbconvert_exporter": "python",
   "pygments_lexer": "ipython3",
   "version": "3.9.13"
  }
 },
 "nbformat": 4,
 "nbformat_minor": 5
}
