{
 "cells": [
  {
   "cell_type": "code",
   "execution_count": 1,
   "id": "357ed1ec",
   "metadata": {},
   "outputs": [],
   "source": [
    "import psycopg2"
   ]
  },
  {
   "cell_type": "code",
   "execution_count": 2,
   "id": "1f193617",
   "metadata": {},
   "outputs": [],
   "source": [
    "connection = psycopg2.connect(database='learning', user='postgres', password='4321', host='localhost')"
   ]
  },
  {
   "cell_type": "code",
   "execution_count": 3,
   "id": "90e35145",
   "metadata": {},
   "outputs": [],
   "source": [
    "cursor=connection.cursor()"
   ]
  },
  {
   "cell_type": "code",
   "execution_count": 5,
   "id": "07bf11c4",
   "metadata": {},
   "outputs": [],
   "source": [
    "cursor.execute('SELECT * FROM printing')"
   ]
  },
  {
   "cell_type": "code",
   "execution_count": 6,
   "id": "6fe13f28",
   "metadata": {},
   "outputs": [
    {
     "name": "stdout",
     "output_type": "stream",
     "text": [
      "(1, 'waiting', 'small_bin', 'black', None, None, None)\n",
      "(2, 'printing', 'medium_bin', 'white', 1, datetime.datetime(2022, 7, 11, 1, 1, 1), None)\n",
      "(3, 'finished', 'sleeve', 'red', 2, datetime.datetime(2022, 7, 11, 0, 3, 51), datetime.datetime(2022, 7, 11, 1, 5))\n",
      "(4, 'failed', 'tray', 'blue', 1, datetime.datetime(2022, 7, 10, 10, 17, 8), datetime.datetime(2022, 7, 10, 12, 10, 20))\n",
      "(5, 'waiting', 'tray', 'blue', None, None, None)\n",
      "(6, 'finished', 'tray', 'white', 3, datetime.datetime(2022, 7, 9, 11, 54, 6), datetime.datetime(2022, 7, 9, 13, 6, 9))\n",
      "(7, 'finished', 'sleeve', 'black', 2, datetime.datetime(2022, 7, 9, 14, 47, 28), datetime.datetime(2022, 7, 9, 15, 38, 46))\n"
     ]
    }
   ],
   "source": [
    "for row in cursor:\n",
    "    print(row)"
   ]
  },
  {
   "cell_type": "code",
   "execution_count": 10,
   "id": "c4ec1997",
   "metadata": {},
   "outputs": [],
   "source": [
    "from database import CursorFromConnectionPool\n",
    "from database import Database"
   ]
  },
  {
   "cell_type": "code",
   "execution_count": 13,
   "id": "11b2e07b",
   "metadata": {},
   "outputs": [],
   "source": [
    "class Print:\n",
    "    def __init__(self, partid, status, part_type, colour, assigned_printerid=None, start_time=None, finish_time=None):\n",
    "        self.partid = partid\n",
    "        self.status = status\n",
    "        self.part_type = part_type\n",
    "        self.colour = colour\n",
    "        self.assigned_printerid = assigned_printerid\n",
    "        self.start_time = start_time\n",
    "        self.finish_time = finish_time\n",
    "\n",
    "    def __repr__(self):\n",
    "        return \"<User {}>\".format(self.partid)\n",
    "\n",
    "    def save_to_db(self):\n",
    "        # This is creating a new connection pool every time! Very expensive...\n",
    "        with CursorFromConnectionPool() as cursor:\n",
    "            cursor.execute('INSERT INTO printing (partid, status, part_type, colour, assigned_printerid, start_time, finish_time) VALUES (%s, %s, %s, %s, %s, %s, %s)',\n",
    "                            (self.partid, self.status, self.part_type, self.colour, self.assigned_printerid, self.start_time, self.finish_time))\n",
    "\n",
    "    @classmethod\n",
    "    def load_from_db_by_part(cls, partid):\n",
    "        with CursorFromConnectionPool() as cursor:\n",
    "            # Note the (email,) to make it a tuple!\n",
    "            cursor.execute('SELECT * FROM printing WHERE partid=%s', (partid,))\n",
    "            print_data = cursor.fetchone()\n",
    "            return cls(partid=print_data[0], status=print_data[1], part_type=print_data[2], colour=print_data[3],\n",
    "                      assigned_printerid=print_data[4], start_time=print_data[5], finish_time=print_data[6])"
   ]
  },
  {
   "cell_type": "code",
   "execution_count": 11,
   "id": "a81e1585",
   "metadata": {},
   "outputs": [],
   "source": [
    "Database.initialise(database=\"learning\", user=\"postgres\", password=\"4321\", host=\"localhost\")"
   ]
  },
  {
   "cell_type": "code",
   "execution_count": 14,
   "id": "2ac5c69f",
   "metadata": {},
   "outputs": [],
   "source": [
    "p = Print('8', 'printing', 'medium_bin', 'yellow', '2', \"2022-07-12 00:05:02\", None)"
   ]
  },
  {
   "cell_type": "code",
   "execution_count": 15,
   "id": "86c9b1fc",
   "metadata": {},
   "outputs": [],
   "source": [
    "p.save_to_db()"
   ]
  },
  {
   "cell_type": "code",
   "execution_count": null,
   "id": "44fb5540",
   "metadata": {},
   "outputs": [],
   "source": [
    "\n",
    "\n",
    "\n",
    "\n",
    "user_from_db = Print.load_from_db_by_part('8')\n",
    "\n",
    "print(user_from_db)"
   ]
  }
 ],
 "metadata": {
  "kernelspec": {
   "display_name": "Python 3 (ipykernel)",
   "language": "python",
   "name": "python3"
  },
  "language_info": {
   "codemirror_mode": {
    "name": "ipython",
    "version": 3
   },
   "file_extension": ".py",
   "mimetype": "text/x-python",
   "name": "python",
   "nbconvert_exporter": "python",
   "pygments_lexer": "ipython3",
   "version": "3.9.12"
  }
 },
 "nbformat": 4,
 "nbformat_minor": 5
}
