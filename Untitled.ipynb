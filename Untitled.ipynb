{
 "cells": [
  {
   "cell_type": "code",
   "execution_count": 1,
   "id": "e56560b4",
   "metadata": {},
   "outputs": [],
   "source": [
    "import psycopg2"
   ]
  },
  {
   "cell_type": "code",
   "execution_count": 2,
   "id": "c2daf3d2",
   "metadata": {},
   "outputs": [],
   "source": [
    "connection = psycopg2.connect(database='learning', user='postgres', password='4321', host='localhost')"
   ]
  },
  {
   "cell_type": "code",
   "execution_count": 3,
   "id": "d10f1453",
   "metadata": {},
   "outputs": [],
   "source": [
    "cursor=connection.cursor()"
   ]
  },
  {
   "cell_type": "code",
   "execution_count": 5,
   "id": "085d7d87",
   "metadata": {},
   "outputs": [],
   "source": [
    "cursor.execute('SELECT * FROM printing')"
   ]
  },
  {
   "cell_type": "code",
   "execution_count": 6,
   "id": "bd9fd121",
   "metadata": {},
   "outputs": [
    {
     "name": "stdout",
     "output_type": "stream",
     "text": [
      "(1, 'waiting', 'small_bin', 'black', None, None, None)\n",
      "(2, 'printing', 'medium_bin', 'white', 1, datetime.datetime(2022, 7, 11, 1, 1, 1), None)\n",
      "(3, 'finished', 'sleeve', 'red', 2, datetime.datetime(2022, 7, 11, 0, 3, 51), datetime.datetime(2022, 7, 11, 1, 5))\n",
      "(4, 'failed', 'tray', 'blue', 1, datetime.datetime(2022, 7, 10, 10, 17, 8), datetime.datetime(2022, 7, 10, 12, 10, 20))\n",
      "(5, 'waiting', 'tray', 'blue', None, None, None)\n",
      "(6, 'finished', 'tray', 'white', 3, datetime.datetime(2022, 7, 9, 11, 54, 6), datetime.datetime(2022, 7, 9, 13, 6, 9))\n",
      "(7, 'finished', 'sleeve', 'black', 2, datetime.datetime(2022, 7, 9, 14, 47, 28), datetime.datetime(2022, 7, 9, 15, 38, 46))\n"
     ]
    }
   ],
   "source": [
    "for row in cursor:\n",
    "    print(row)"
   ]
  },
  {
   "cell_type": "code",
   "execution_count": null,
   "id": "cc04add6",
   "metadata": {},
   "outputs": [],
   "source": []
  }
 ],
 "metadata": {
  "kernelspec": {
   "display_name": "Python 3 (ipykernel)",
   "language": "python",
   "name": "python3"
  },
  "language_info": {
   "codemirror_mode": {
    "name": "ipython",
    "version": 3
   },
   "file_extension": ".py",
   "mimetype": "text/x-python",
   "name": "python",
   "nbconvert_exporter": "python",
   "pygments_lexer": "ipython3",
   "version": "3.9.12"
  }
 },
 "nbformat": 4,
 "nbformat_minor": 5
}
