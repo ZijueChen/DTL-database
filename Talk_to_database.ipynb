{
 "cells": [
  {
   "cell_type": "code",
   "execution_count": 18,
   "id": "357ed1ec",
   "metadata": {},
   "outputs": [],
   "source": [
    "import psycopg2\n",
    "import datetime"
   ]
  },
  {
   "cell_type": "code",
   "execution_count": 2,
   "id": "1f193617",
   "metadata": {},
   "outputs": [],
   "source": [
    "connection = psycopg2.connect(database='Developer', user='postgres', password='4321', host='localhost')"
   ]
  },
  {
   "cell_type": "code",
   "execution_count": 3,
   "id": "90e35145",
   "metadata": {},
   "outputs": [],
   "source": [
    "cursor=connection.cursor()"
   ]
  },
  {
   "cell_type": "code",
   "execution_count": 4,
   "id": "07bf11c4",
   "metadata": {},
   "outputs": [],
   "source": [
    "cursor.execute('SELECT * FROM printing')"
   ]
  },
  {
   "cell_type": "code",
   "execution_count": 5,
   "id": "6fe13f28",
   "metadata": {},
   "outputs": [
    {
     "name": "stdout",
     "output_type": "stream",
     "text": [
      "(2, 'printing', 2, datetime.datetime(2022, 7, 12, 0, 5, 2), None, None, None)\n"
     ]
    }
   ],
   "source": [
    "for row in cursor:\n",
    "    print(row)"
   ]
  },
  {
   "cell_type": "code",
   "execution_count": 6,
   "id": "c4ec1997",
   "metadata": {},
   "outputs": [],
   "source": [
    "from database import CursorFromConnectionPool\n",
    "from database import Database"
   ]
  },
  {
   "cell_type": "code",
   "execution_count": 7,
   "id": "11b2e07b",
   "metadata": {},
   "outputs": [],
   "source": [
    "# old demo version\n",
    "class Print:\n",
    "    def __init__(self, partid, status, assigned_printerid, start_time, finish_time, filamentid, used_filament):\n",
    "        self.partid = partid\n",
    "        self.status = status\n",
    "        self.assigned_printerid = assigned_printerid\n",
    "        self.start_time = start_time\n",
    "        self.finish_time = finish_time\n",
    "        self.filamentid = filamentid\n",
    "        self.used_filament = used_filament\n",
    "\n",
    "    def __repr__(self):\n",
    "        return \"<partid {}>\".format(self.partid)\n",
    "    \n",
    "    def save_to_db(self):\n",
    "        # This is creating a new connection pool every time! Very expensive...\n",
    "        with CursorFromConnectionPool() as cursor:\n",
    "            cursor.execute('INSERT INTO printing (partid, status, assigned_printerid, start_time, finish_time, filamentid, used_filament) VALUES (%s, %s, %s, %s, %s, %s, %s)',\n",
    "                            (self.partid, self.status, self.assigned_printerid, self.start_time, self.finish_time, self.filamentid, self.used_filament))\n",
    "\n",
    "    @classmethod\n",
    "    def load_from_db_by_part(cls, partid):\n",
    "        with CursorFromConnectionPool() as cursor:\n",
    "            # Note the (email,) to make it a tuple!\n",
    "            cursor.execute('SELECT * FROM printing WHERE partid=%s', (partid,))\n",
    "            print_data = cursor.fetchone()\n",
    "            return cls(partid=print_data[0], status=print_data[1], part_type=print_data[2], colour=print_data[3],\n",
    "                       assigned_printerid=print_data[4], start_time=print_data[5], finish_time=print_data[6], material=print_data[7], used_filament=print_data[8])\n",
    "\n",
    "#----------------------under construction from here downwards--------------------------\n",
    "    @classmethod\n",
    "    def update_db_by_part(cls, partid, value):\n",
    "        with CursorFromConnectionPool() as cursor:\n",
    "            # Note the (email,) to make it a tuple!\n",
    "            cursor.execute('UPDATE printing SET used_filament=%s WHERE partid=%s;', (value, partid,))\n",
    "#             print_data = cursor.fetchone()\n",
    "#             return cls(partid=print_data[0], status=print_data[1], part_type=print_data[2], colour=print_data[3],\n",
    "#                        assigned_printerid=print_data[4], start_time=print_data[5], finish_time=print_data[6], material=print_data[7], used_filament=print_data[8])"
   ]
  },
  {
   "cell_type": "code",
   "execution_count": 38,
   "id": "a3ce8226",
   "metadata": {},
   "outputs": [],
   "source": [
    "# UNDER CONSTRUCTION____________________\n",
    "# no partID required for input, generate automatically from database\n",
    "class Print:\n",
    "    def __init__(self, status, assigned_printerid, start_time, finish_time, filamentid, used_filament):\n",
    "#         self.partid = partid\n",
    "        self.status = status\n",
    "        self.assigned_printerid = assigned_printerid\n",
    "        self.start_time = start_time\n",
    "        self.finish_time = finish_time\n",
    "        self.filamentid = filamentid\n",
    "        self.used_filament = used_filament\n",
    "\n",
    "#     def __repr__(self):\n",
    "#         return \"<partid {}>\".format(self.partid)\n",
    "    \n",
    "    def save_to_db(self):\n",
    "        # This is creating a new connection pool every time! Very expensive...\n",
    "        with CursorFromConnectionPool() as cursor:\n",
    "            cursor.execute('INSERT INTO printing (status, assigned_printerid, start_time, finish_time, filamentid, used_filament) VALUES (%s, %s, %s, %s, %s, %s)',\n",
    "                            (self.status, self.assigned_printerid, self.start_time, self.finish_time, self.filamentid, self.used_filament))\n",
    "    \n",
    "    \n",
    "    @classmethod\n",
    "    def load_from_db_by_part(cls, partid):\n",
    "        with CursorFromConnectionPool() as cursor:\n",
    "            # Note the (email,) to make it a tuple!\n",
    "            cursor.execute('SELECT * FROM printing WHERE partid=%s', (partid,))\n",
    "            print_data = cursor.fetchone()\n",
    "            return cls(status=print_data[1], assigned_printerid=print_data[2], start_time=print_data[3], \n",
    "                       finish_time=print_data[4], filamentid=print_data[5], used_filament=print_data[6])\n",
    "    @classmethod\n",
    "    def assign_part(cls, printerid, status='waiting'): # when status change from operational --> heating\n",
    "        # This is creating a new connection pool every time! Very expensive...\n",
    "        with CursorFromConnectionPool() as cursor:\n",
    "            cursor.execute('INSERT INTO printing (status, assigned_printerid, start_time, finish_time, filamentid, used_filament) VALUES (%s, %s, %s, %s, %s, %s)',\n",
    "                            (status, printerid, None, None, None, None))\n",
    "\n",
    "#----------------------under construction from here downwards--------------------------\n",
    "    @classmethod\n",
    "    def get_current_partid_by_printer(cls, printerid):\n",
    "        with CursorFromConnectionPool() as cursor:\n",
    "            # Note the (email,) to make it a tuple!\n",
    "            cursor.execute('SELECT partid FROM printing WHERE assigned_printerid=%s AND status=%s', (printerid, status,))\n",
    "            return cursor.fetchone()[0]\n",
    "        \n",
    "    @classmethod\n",
    "    def update_db_by_part(cls, partid, value):\n",
    "        with CursorFromConnectionPool() as cursor:\n",
    "            # Note the (email,) to make it a tuple!\n",
    "            cursor.execute('UPDATE printing SET used_filament=%s WHERE partid=%s;', (value, partid,))\n",
    "    \n",
    "    @classmethod\n",
    "    def update_db_by_part(cls, partid, value):\n",
    "        with CursorFromConnectionPool() as cursor:\n",
    "            # Note the (email,) to make it a tuple!\n",
    "            cursor.execute('UPDATE printing SET used_filament=%s WHERE partid=%s;', (value, partid,))\n",
    "#             print_data = cursor.fetchone()\n",
    "#             return cls(partid=print_data[0], status=print_data[1], part_type=print_data[2], colour=print_data[3],\n",
    "#                        assigned_printerid=print_data[4], start_time=print_data[5], finish_time=print_data[6], material=print_data[7], used_filament=print_data[8])"
   ]
  },
  {
   "cell_type": "code",
   "execution_count": 39,
   "id": "ddd18822",
   "metadata": {},
   "outputs": [],
   "source": [
    "Print.assign_job('3')"
   ]
  },
  {
   "cell_type": "code",
   "execution_count": 19,
   "id": "f573be23",
   "metadata": {
    "scrolled": true
   },
   "outputs": [
    {
     "data": {
      "text/plain": [
       "datetime.datetime(2022, 9, 6, 16, 43, 26, 297360)"
      ]
     },
     "execution_count": 19,
     "metadata": {},
     "output_type": "execute_result"
    }
   ],
   "source": [
    "datetime.datetime.now()"
   ]
  },
  {
   "cell_type": "code",
   "execution_count": 27,
   "id": "a81e1585",
   "metadata": {},
   "outputs": [],
   "source": [
    "Database.initialise(database=\"Developer\", user=\"postgres\", password=\"4321\", host=\"localhost\")"
   ]
  },
  {
   "cell_type": "code",
   "execution_count": 29,
   "id": "44fb5540",
   "metadata": {},
   "outputs": [
    {
     "name": "stdout",
     "output_type": "stream",
     "text": [
      "2022-07-12 00:05:02\n"
     ]
    }
   ],
   "source": [
    "user_from_db = Print.load_from_db_by_part(Print.get_printing_partid_by_printer('2'))\n",
    "\n",
    "print(user_from_db.start_time)"
   ]
  },
  {
   "cell_type": "code",
   "execution_count": 11,
   "id": "b7e0f9e6",
   "metadata": {},
   "outputs": [
    {
     "ename": "TypeError",
     "evalue": "save_to_db() takes 1 positional argument but 6 were given",
     "output_type": "error",
     "traceback": [
      "\u001b[1;31m---------------------------------------------------------------------------\u001b[0m",
      "\u001b[1;31mTypeError\u001b[0m                                 Traceback (most recent call last)",
      "Input \u001b[1;32mIn [11]\u001b[0m, in \u001b[0;36m<cell line: 1>\u001b[1;34m()\u001b[0m\n\u001b[1;32m----> 1\u001b[0m \u001b[43mPrint\u001b[49m\u001b[38;5;241;43m.\u001b[39;49m\u001b[43msave_to_db\u001b[49m\u001b[43m(\u001b[49m\u001b[38;5;124;43m'\u001b[39;49m\u001b[38;5;124;43mtesting\u001b[39;49m\u001b[38;5;124;43m'\u001b[39;49m\u001b[43m,\u001b[49m\u001b[43m \u001b[49m\u001b[38;5;124;43m'\u001b[39;49m\u001b[38;5;124;43m3\u001b[39;49m\u001b[38;5;124;43m'\u001b[39;49m\u001b[43m,\u001b[49m\u001b[43m \u001b[49m\u001b[38;5;124;43m'\u001b[39;49m\u001b[38;5;124;43m'\u001b[39;49m\u001b[43m,\u001b[49m\u001b[38;5;124;43m'\u001b[39;49m\u001b[38;5;124;43m'\u001b[39;49m\u001b[43m,\u001b[49m\u001b[38;5;124;43m'\u001b[39;49m\u001b[38;5;124;43m'\u001b[39;49m\u001b[43m,\u001b[49m\u001b[38;5;124;43m'\u001b[39;49m\u001b[38;5;124;43m'\u001b[39;49m\u001b[43m)\u001b[49m\n",
      "\u001b[1;31mTypeError\u001b[0m: save_to_db() takes 1 positional argument but 6 were given"
     ]
    }
   ],
   "source": [
    "\n",
    "Print.save_to_db('testing', '3', '','','','')"
   ]
  },
  {
   "cell_type": "code",
   "execution_count": 11,
   "id": "272b7292",
   "metadata": {},
   "outputs": [
    {
     "ename": "AttributeError",
     "evalue": "'NoneType' object has no attribute 'getconn'",
     "output_type": "error",
     "traceback": [
      "\u001b[1;31m---------------------------------------------------------------------------\u001b[0m",
      "\u001b[1;31mAttributeError\u001b[0m                            Traceback (most recent call last)",
      "Input \u001b[1;32mIn [11]\u001b[0m, in \u001b[0;36m<cell line: 2>\u001b[1;34m()\u001b[0m\n\u001b[0;32m      1\u001b[0m n \u001b[38;5;241m=\u001b[39m get_ipython()\u001b[38;5;241m.\u001b[39mgetoutput(\u001b[38;5;124m'\u001b[39m\u001b[38;5;124mpython OPCUA_test.py\u001b[39m\u001b[38;5;124m'\u001b[39m)\n\u001b[1;32m----> 2\u001b[0m \u001b[43mPrint\u001b[49m\u001b[38;5;241;43m.\u001b[39;49m\u001b[43mupdate_db_by_part\u001b[49m\u001b[43m(\u001b[49m\u001b[38;5;124;43m'\u001b[39;49m\u001b[38;5;124;43m2\u001b[39;49m\u001b[38;5;124;43m'\u001b[39;49m\u001b[43m,\u001b[49m\u001b[43m \u001b[49m\u001b[43mn\u001b[49m\u001b[43m[\u001b[49m\u001b[38;5;241;43m1\u001b[39;49m\u001b[43m]\u001b[49m\u001b[43m)\u001b[49m\n",
      "Input \u001b[1;32mIn [10]\u001b[0m, in \u001b[0;36mPrint.update_db_by_part\u001b[1;34m(cls, partid, value)\u001b[0m\n\u001b[0;32m     32\u001b[0m \u001b[38;5;129m@classmethod\u001b[39m\n\u001b[0;32m     33\u001b[0m \u001b[38;5;28;01mdef\u001b[39;00m \u001b[38;5;21mupdate_db_by_part\u001b[39m(\u001b[38;5;28mcls\u001b[39m, partid, value):\n\u001b[1;32m---> 34\u001b[0m     \u001b[38;5;28;01mwith\u001b[39;00m CursorFromConnectionPool() \u001b[38;5;28;01mas\u001b[39;00m cursor:\n\u001b[0;32m     35\u001b[0m         \u001b[38;5;66;03m# Note the (email,) to make it a tuple!\u001b[39;00m\n\u001b[0;32m     36\u001b[0m         cursor\u001b[38;5;241m.\u001b[39mexecute(\u001b[38;5;124m'\u001b[39m\u001b[38;5;124mUPDATE printing SET used_filament=\u001b[39m\u001b[38;5;132;01m%s\u001b[39;00m\u001b[38;5;124m WHERE partid=\u001b[39m\u001b[38;5;132;01m%s\u001b[39;00m\u001b[38;5;124m;\u001b[39m\u001b[38;5;124m'\u001b[39m, (value, partid,))\n",
      "File \u001b[1;32m~\\Documents\\DTL-database\\database.py:30\u001b[0m, in \u001b[0;36mCursorFromConnectionPool.__enter__\u001b[1;34m(self)\u001b[0m\n\u001b[0;32m     29\u001b[0m \u001b[38;5;28;01mdef\u001b[39;00m \u001b[38;5;21m__enter__\u001b[39m(\u001b[38;5;28mself\u001b[39m):\n\u001b[1;32m---> 30\u001b[0m     \u001b[38;5;28mself\u001b[39m\u001b[38;5;241m.\u001b[39mconn \u001b[38;5;241m=\u001b[39m \u001b[43mDatabase\u001b[49m\u001b[38;5;241;43m.\u001b[39;49m\u001b[43mget_connection\u001b[49m\u001b[43m(\u001b[49m\u001b[43m)\u001b[49m\n\u001b[0;32m     31\u001b[0m     \u001b[38;5;28mself\u001b[39m\u001b[38;5;241m.\u001b[39mcursor \u001b[38;5;241m=\u001b[39m \u001b[38;5;28mself\u001b[39m\u001b[38;5;241m.\u001b[39mconn\u001b[38;5;241m.\u001b[39mcursor()\n\u001b[0;32m     32\u001b[0m     \u001b[38;5;28;01mreturn\u001b[39;00m \u001b[38;5;28mself\u001b[39m\u001b[38;5;241m.\u001b[39mcursor\n",
      "File \u001b[1;32m~\\Documents\\DTL-database\\database.py:14\u001b[0m, in \u001b[0;36mDatabase.get_connection\u001b[1;34m()\u001b[0m\n\u001b[0;32m     12\u001b[0m \u001b[38;5;129m@staticmethod\u001b[39m\n\u001b[0;32m     13\u001b[0m \u001b[38;5;28;01mdef\u001b[39;00m \u001b[38;5;21mget_connection\u001b[39m():\n\u001b[1;32m---> 14\u001b[0m     \u001b[38;5;28;01mreturn\u001b[39;00m \u001b[43mDatabase\u001b[49m\u001b[38;5;241;43m.\u001b[39;49m\u001b[43m__connection_pool\u001b[49m\u001b[38;5;241;43m.\u001b[39;49m\u001b[43mgetconn\u001b[49m()\n",
      "\u001b[1;31mAttributeError\u001b[0m: 'NoneType' object has no attribute 'getconn'"
     ]
    }
   ],
   "source": [
    "n = !python OPCUA_test.py\n",
    "Print.update_db_by_part('2', n[1])"
   ]
  },
  {
   "cell_type": "code",
   "execution_count": 16,
   "id": "2ac5c69f",
   "metadata": {},
   "outputs": [],
   "source": [
    "p = Print('testing','100', \"2022-09-01 00:05:02\", None, None, None)"
   ]
  },
  {
   "cell_type": "code",
   "execution_count": 17,
   "id": "86c9b1fc",
   "metadata": {},
   "outputs": [],
   "source": [
    "p.save_to_db()"
   ]
  },
  {
   "cell_type": "code",
   "execution_count": null,
   "id": "e2cf8099",
   "metadata": {},
   "outputs": [],
   "source": []
  },
  {
   "cell_type": "code",
   "execution_count": null,
   "id": "87b72596",
   "metadata": {},
   "outputs": [],
   "source": []
  },
  {
   "cell_type": "code",
   "execution_count": 61,
   "id": "482c82fc",
   "metadata": {},
   "outputs": [],
   "source": [
    "n = !python OPCUA_test.py"
   ]
  },
  {
   "cell_type": "code",
   "execution_count": 63,
   "id": "734a3429",
   "metadata": {},
   "outputs": [
    {
     "data": {
      "text/plain": [
       "'5'"
      ]
     },
     "execution_count": 63,
     "metadata": {},
     "output_type": "execute_result"
    }
   ],
   "source": [
    "n[1]"
   ]
  },
  {
   "cell_type": "code",
   "execution_count": null,
   "id": "eff5fdbd",
   "metadata": {},
   "outputs": [],
   "source": []
  }
 ],
 "metadata": {
  "kernelspec": {
   "display_name": "Python 3 (ipykernel)",
   "language": "python",
   "name": "python3"
  },
  "language_info": {
   "codemirror_mode": {
    "name": "ipython",
    "version": 3
   },
   "file_extension": ".py",
   "mimetype": "text/x-python",
   "name": "python",
   "nbconvert_exporter": "python",
   "pygments_lexer": "ipython3",
   "version": "3.9.12"
  }
 },
 "nbformat": 4,
 "nbformat_minor": 5
}
